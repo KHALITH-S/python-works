{
 "cells": [
  {
   "cell_type": "code",
   "execution_count": 7,
   "id": "451e5f4e-6678-4ce6-86cb-1d4baaec1291",
   "metadata": {},
   "outputs": [
    {
     "name": "stdout",
     "output_type": "stream",
     "text": [
      "name :  khalith\n",
      "reg no :  001\n",
      "name :  ravi\n",
      "reg no :  002\n",
      "khalith\n"
     ]
    }
   ],
   "source": [
    "class student():\n",
    "    def __init__(self):\n",
    "        self.name=\"khalith\"\n",
    "        self.reg=\"001\"\n",
    "    def display(self):\n",
    "        print(\"name : \",self.name)\n",
    "        print(\"reg no : \",self.reg)\n",
    "obb=student()\n",
    "obb1=student()\n",
    "\n",
    "obb1.name=\"ravi\"\n",
    "obb1.reg=\"002\"\n",
    "  \n",
    "obb.display()\n",
    "obb1.display()\n",
    "print(obb.name)"
   ]
  },
  {
   "cell_type": "code",
   "execution_count": 11,
   "id": "15b7e210-e43b-4c80-a2b1-e8226a1f8780",
   "metadata": {},
   "outputs": [
    {
     "name": "stdout",
     "output_type": "stream",
     "text": [
      "red\n"
     ]
    }
   ],
   "source": [
    "class fruit():\n",
    "    def __init__(self,colour):\n",
    "        self.colour=colour\n",
    "apple=fruit(\"red\")\n",
    "print(apple.colour)"
   ]
  },
  {
   "cell_type": "code",
   "execution_count": 16,
   "id": "b5170b75-121d-427b-a44a-55f8f612350b",
   "metadata": {},
   "outputs": [
    {
     "name": "stdout",
     "output_type": "stream",
     "text": [
      "khaith\n",
      "001\n",
      "ravi\n",
      "002\n"
     ]
    }
   ],
   "source": [
    "class teacher():\n",
    "    def __init__(self,name,reg):\n",
    "        self.name=name\n",
    "        self.reg=reg\n",
    "    def display(self):\n",
    "        print(self.name)\n",
    "        print(self.reg)\n",
    "t1=teacher(\"khaith\",\"001\")\n",
    "t2=teacher(\"ravi\",\"002\")\n",
    "t1.display()\n",
    "t2.display()\n",
    "     "
   ]
  },
  {
   "cell_type": "code",
   "execution_count": 23,
   "id": "c9fef792-e3ea-4ead-83aa-86d8a7ebe8a7",
   "metadata": {},
   "outputs": [
    {
     "name": "stdout",
     "output_type": "stream",
     "text": [
      "28\n",
      "-8\n",
      "180\n",
      "10\n"
     ]
    }
   ],
   "source": [
    "class calculator():\n",
    "    def __init__(self,a,b):\n",
    "        self.a=a\n",
    "        self.b=b\n",
    "    def add(self):\n",
    "        print(self.a+self.b)\n",
    "    def sub(self):\n",
    "        print(self.a-self.b)\n",
    "    def multi(self):\n",
    "        print(self.a*self.b)\n",
    "    def div(self):\n",
    "        print(self.a%self.b)\n",
    "obb=calculator(10,18)\n",
    "obb.add()\n",
    "obb.sub()\n",
    "obb.multi()\n",
    "obb.div()\n"
   ]
  },
  {
   "cell_type": "code",
   "execution_count": null,
   "id": "1cf9df31-3b39-44d9-9172-98e6656aab5e",
   "metadata": {},
   "outputs": [],
   "source": [
    "#self.variable --- this is known as te instance variable which is ued inside the constructor\n",
    "#class variable which is variable define afer the class which is used as a default funcion"
   ]
  },
  {
   "cell_type": "code",
   "execution_count": 3,
   "id": "f7832916-9472-4c5e-ba3d-064b5595c2d4",
   "metadata": {},
   "outputs": [
    {
     "name": "stdout",
     "output_type": "stream",
     "text": [
      "oppo\n",
      "10000\n",
      "ctype\n",
      "mi\n",
      "5000\n",
      "ctype\n",
      "poco\n",
      "30000\n",
      "ctype\n"
     ]
    }
   ],
   "source": [
    "class phone():\n",
    "    charger=\"ctype\"                                  #we use the class variable\n",
    "    def __init__(self,name,price):\n",
    "        self.name=name\n",
    "        self.price=price\n",
    "        \n",
    "    def display(self):\n",
    "        print(self.name)\n",
    "        print(self.price)\n",
    "        print(self.charger)                #we use the instance variable to call the class varable\n",
    "\n",
    "\n",
    "#phone.charger=\"B-type\"    ----------- used to change the class variable \n",
    "obb=phone(\"oppo\",\"10000\")\n",
    "obb1=phone(\"mi\",\"5000\")\n",
    "obb2=phone(\"poco\",\"30000\")\n",
    "\n",
    "\n",
    "obb.display()\n",
    "obb1.display()\n",
    "obb2.display()"
   ]
  },
  {
   "cell_type": "code",
   "execution_count": 22,
   "id": "216a0ddc-6714-4d9a-a0df-eb38af0d18d7",
   "metadata": {},
   "outputs": [
    {
     "name": "stdout",
     "output_type": "stream",
     "text": [
      "price :  20000\n",
      "charer: C-Type\n",
      "brand : dell\n",
      "i am the buyer\n"
     ]
    }
   ],
   "source": [
    "#function is also known as the method in python\n",
    "#instance method means which is using of the self to call the the output\n",
    "#static method is ued to print without the self argument\n",
    "\n",
    "class laptop():\n",
    "    \n",
    "    charger=\"C-Type\"\n",
    "    \n",
    "    def __init__(self):\n",
    "        self.brand=\"dell\"\n",
    "        self.price=10000\n",
    "        \n",
    "    def setprice(self):\n",
    "        self.price=20000\n",
    "        \n",
    "    def getprice(self):\n",
    "        print(\"price : \",self.price)\n",
    "        print(\"charer:\",self.charger)\n",
    "        print(\"brand :\" ,self.brand)\n",
    "        \n",
    "    @staticmethod    \n",
    "    def info():\n",
    "        print(\"I am the Buyer\")\n",
    "        \n",
    "obb=laptop()\n",
    "obb.setprice()\n",
    "obb.getprice()\n",
    "obb.info()\n",
    "        "
   ]
  },
  {
   "cell_type": "code",
   "execution_count": null,
   "id": "b8ed6dee-7da1-43d1-a9c4-df594c640406",
   "metadata": {},
   "outputs": [],
   "source": []
  }
 ],
 "metadata": {
  "kernelspec": {
   "display_name": "Python [conda env:base] *",
   "language": "python",
   "name": "conda-base-py"
  },
  "language_info": {
   "codemirror_mode": {
    "name": "ipython",
    "version": 3
   },
   "file_extension": ".py",
   "mimetype": "text/x-python",
   "name": "python",
   "nbconvert_exporter": "python",
   "pygments_lexer": "ipython3",
   "version": "3.13.5"
  }
 },
 "nbformat": 4,
 "nbformat_minor": 5
}
