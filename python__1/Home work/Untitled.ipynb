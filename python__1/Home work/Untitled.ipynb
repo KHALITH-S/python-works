{
 "cells": [
  {
   "cell_type": "code",
   "execution_count": 1,
   "id": "2ae2f01f-c3bf-4c36-84c9-44fb38c1ef04",
   "metadata": {},
   "outputs": [
    {
     "name": "stdout",
     "output_type": "stream",
     "text": [
      "3\n",
      "cook\n",
      "khalith\n"
     ]
    }
   ],
   "source": [
    "#legal variale\n",
    "\n",
    "k=3\n",
    "print(k)\n",
    "\n",
    "_variable=(\"cook\")\n",
    "print(_variable)\n",
    "\n",
    "my_name=(\"khalith\")\n",
    "print(my_name)"
   ]
  },
  {
   "cell_type": "code",
   "execution_count": 3,
   "id": "ff336d70-ab1f-488d-bf7a-df9759f2947b",
   "metadata": {},
   "outputs": [
    {
     "ename": "SyntaxError",
     "evalue": "cannot assign to expression here. Maybe you meant '==' instead of '='? (2865666585.py, line 6)",
     "output_type": "error",
     "traceback": [
      "\u001b[1;36m  Cell \u001b[1;32mIn[3], line 6\u001b[1;36m\u001b[0m\n\u001b[1;33m    my-name=(\"khalith\")\u001b[0m\n\u001b[1;37m    ^\u001b[0m\n\u001b[1;31mSyntaxError\u001b[0m\u001b[1;31m:\u001b[0m cannot assign to expression here. Maybe you meant '==' instead of '='?\n"
     ]
    }
   ],
   "source": [
    "#illegal variable\n",
    "\n",
    "7=8\n",
    "print(7)\n",
    "\n",
    "my-name=(\"khalith\")\n",
    "print(my-name)\n",
    "\n",
    "MYname=(\"abi\")\n",
    "print(myname)\n"
   ]
  },
  {
   "cell_type": "code",
   "execution_count": 3,
   "id": "f7dc9390-a002-4574-b75c-0669ad496a62",
   "metadata": {},
   "outputs": [
    {
     "name": "stdout",
     "output_type": "stream",
     "text": [
      "3 3.2 (3.2+0j)\n"
     ]
    }
   ],
   "source": [
    "k=3.2\n",
    "k1=int(k)\n",
    "k2=str(k)\n",
    "k3=complex(k)\n",
    "print(k1,k2,k3)"
   ]
  },
  {
   "cell_type": "code",
   "execution_count": 4,
   "id": "eec6f6a7-503b-48e6-ae1b-b76137853d00",
   "metadata": {},
   "outputs": [
    {
     "name": "stdout",
     "output_type": "stream",
     "text": [
      "10.0 10 (10+0j)\n"
     ]
    }
   ],
   "source": [
    "k=10\n",
    "k1=float(k)\n",
    "k2=str(k)\n",
    "k3=complex(k)\n",
    "print(k1,k2,k3)"
   ]
  },
  {
   "cell_type": "code",
   "execution_count": 6,
   "id": "adc0fced-1dbe-4ee5-9aed-f234b876a085",
   "metadata": {},
   "outputs": [
    {
     "name": "stdout",
     "output_type": "stream",
     "text": [
      "(18+0j)\n",
      "18.0\n"
     ]
    }
   ],
   "source": [
    "k=18\n",
    "print(complex(k))\n",
    "print(float(k.real))"
   ]
  },
  {
   "cell_type": "code",
   "execution_count": 102,
   "id": "feaf32d2-d00c-41eb-8ba7-d48a3b249c93",
   "metadata": {},
   "outputs": [
    {
     "name": "stdout",
     "output_type": "stream",
     "text": [
      "I am khalith\n",
      "i am khalith\n",
      "I AM KHALITH\n",
      "i am khalith\n",
      "----i am khalith----\n",
      "2\n",
      "b'i am khalith'\n",
      "False\n",
      "5\n",
      "6\n"
     ]
    }
   ],
   "source": [
    "#string methods.....\n",
    "k=(\"i am khalith\")\n",
    "print(k.capitalize())\n",
    "print(k.casefold())\n",
    "print(k.upper())\n",
    "print(k.lower())\n",
    "print(k.center(20,\"-\"))\n",
    "print(k.count(\"a\"))\n",
    "print(k.encode())\n",
    "print(k.endswith(\"k\"))\n",
    "print(k.find(\"k\")) \n",
    "print(k.index(\"h\"))"
   ]
  },
  {
   "cell_type": "code",
   "execution_count": 79,
   "id": "04a5dcf6-75be-4cdc-a6dd-72af2a640cb2",
   "metadata": {},
   "outputs": [
    {
     "name": "stdout",
     "output_type": "stream",
     "text": [
      "p       y       t       h       o       n\n"
     ]
    }
   ],
   "source": [
    "k=(\"p\\ty\\tt\\th\\to\\tn\")\n",
    "print(k.expandtabs(8))"
   ]
  },
  {
   "cell_type": "code",
   "execution_count": 98,
   "id": "0e265037-0349-4af4-b8ac-704a3c841292",
   "metadata": {},
   "outputs": [
    {
     "name": "stdout",
     "output_type": "stream",
     "text": [
      "i am khalith\n"
     ]
    }
   ],
   "source": [
    "k=(\"i am {}\")\n",
    "print(k.format(\"khalith\"))"
   ]
  },
  {
   "cell_type": "code",
   "execution_count": null,
   "id": "de7e25cd-098a-41e6-80e3-c4d79c18855a",
   "metadata": {},
   "outputs": [],
   "source": []
  }
 ],
 "metadata": {
  "kernelspec": {
   "display_name": "Python [conda env:base] *",
   "language": "python",
   "name": "conda-base-py"
  },
  "language_info": {
   "codemirror_mode": {
    "name": "ipython",
    "version": 3
   },
   "file_extension": ".py",
   "mimetype": "text/x-python",
   "name": "python",
   "nbconvert_exporter": "python",
   "pygments_lexer": "ipython3",
   "version": "3.13.5"
  }
 },
 "nbformat": 4,
 "nbformat_minor": 5
}
